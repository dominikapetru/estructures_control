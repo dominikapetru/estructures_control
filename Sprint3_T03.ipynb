{
 "cells": [
  {
   "cell_type": "markdown",
   "id": "b884d79c-766f-4079-a128-cd17e16d5217",
   "metadata": {
    "tags": []
   },
   "source": [
    "#Sprint 3, T03"
   ]
  },
  {
   "cell_type": "markdown",
   "id": "9014f99f-bbf3-4531-a312-5b3224fce259",
   "metadata": {},
   "source": [
    "##Nivell 1"
   ]
  },
  {
   "cell_type": "markdown",
   "id": "b45bf568-9f66-44b9-acfb-6353ccf48230",
   "metadata": {},
   "source": [
    "###Execise 1 - Classification program"
   ]
  },
  {
   "cell_type": "code",
   "execution_count": 3,
   "id": "211e0816-0b57-47c2-85d0-691aeb9dbf3c",
   "metadata": {},
   "outputs": [
    {
     "name": "stdin",
     "output_type": "stream",
     "text": [
      "Enter your grade between 0 and 10: 0\n"
     ]
    },
    {
     "name": "stdout",
     "output_type": "stream",
     "text": [
      "Wrong number!\n"
     ]
    },
    {
     "name": "stdin",
     "output_type": "stream",
     "text": [
      "Try again: enter your grade between 0 and 10: 9\n"
     ]
    },
    {
     "name": "stdout",
     "output_type": "stream",
     "text": [
      "Your grade is excellent!\n"
     ]
    }
   ],
   "source": [
    "var = int(input(\"Enter your grade between 0 and 10:\"))\n",
    "\n",
    "while var > 10 or var <= 0:\n",
    "    print(\"Wrong number!\")\n",
    "    var = int(input(\"Try again: enter your grade between 0 and 10:\"))\n",
    "else:\n",
    "    if var <=10 and var > 8:\n",
    "        print(\"Your grade is excellent!\")\n",
    "    elif var <=8 and var > 6:\n",
    "        print(\"Your grade is notable!\")\n",
    "    elif var <=6 and var > 4:\n",
    "        print(\"Your grade is approved!\")\n",
    "    else:\n",
    "        print(\"Your grade is suspended!\")"
   ]
  },
  {
   "cell_type": "markdown",
   "id": "080f32f8-eee5-4730-a752-f61849713c3c",
   "metadata": {},
   "source": [
    "###Execise 2 - Evaluation of two numbers"
   ]
  },
  {
   "cell_type": "code",
   "execution_count": 2,
   "id": "abc67835-a3da-41c9-ad4a-be6e80e2d36c",
   "metadata": {},
   "outputs": [
    {
     "name": "stdin",
     "output_type": "stream",
     "text": [
      "Enter your first number: 12\n",
      "Enter your second number: 10\n"
     ]
    },
    {
     "name": "stdout",
     "output_type": "stream",
     "text": [
      "First number is greater then the second.\n"
     ]
    }
   ],
   "source": [
    "num1 = int(input(\"Enter your first number:\"))\n",
    "num2 = int(input(\"Enter your second number:\"))\n",
    "\n",
    "if num1 > num2:\n",
    "    print(\"First number is greater then the second.\")\n",
    "elif num1 == num2:\n",
    "    print(\"First number is equal to the second.\")\n",
    "else:\n",
    "    print(\"First number is smaller then the second.\")"
   ]
  },
  {
   "cell_type": "markdown",
   "id": "26b340bf-ab79-470b-8df0-504702ac1e66",
   "metadata": {},
   "source": [
    "###Execise 3 - Name game"
   ]
  },
  {
   "cell_type": "code",
   "execution_count": 6,
   "id": "7db4a9df-1c9c-444a-9f9a-ad67192afc7b",
   "metadata": {},
   "outputs": [
    {
     "name": "stdin",
     "output_type": "stream",
     "text": [
      "Enter your name: Domi\n",
      "Enter some number: 5\n"
     ]
    },
    {
     "name": "stdout",
     "output_type": "stream",
     "text": [
      "Domi\n",
      "Domi\n",
      "Domi\n",
      "Domi\n",
      "Domi\n"
     ]
    }
   ],
   "source": [
    "name = input(\"Enter your name:\")\n",
    "num = int(input(\"Enter some number:\"))\n",
    "\n",
    "while num <= 0:\n",
    "    print(\"Wrong number!\")\n",
    "else:\n",
    "    for i in range (num):\n",
    "        print(name)"
   ]
  },
  {
   "cell_type": "markdown",
   "id": "debb5b69-6490-4ac6-b1f7-d96e6f51f589",
   "metadata": {},
   "source": [
    "###Execise 4 - List game1"
   ]
  },
  {
   "cell_type": "code",
   "execution_count": 18,
   "id": "ff0846ac-0af8-4db2-a05b-0d629ace2912",
   "metadata": {},
   "outputs": [
    {
     "name": "stdin",
     "output_type": "stream",
     "text": [
      "Enter some number greater than 0: 8\n"
     ]
    },
    {
     "name": "stdout",
     "output_type": "stream",
     "text": [
      "Random list is symmetric and has  8  elements\n"
     ]
    }
   ],
   "source": [
    "import random\n",
    "randomlist = []\n",
    "num = int(input(\"Enter some number greater than 0:\"))\n",
    "\n",
    "for i in range(0,num):\n",
    "    n = random.randint(1,30)\n",
    "    randomlist.append(n)\n",
    "\n",
    "x = len(randomlist)\n",
    "    \n",
    "if x % 2 == 0:\n",
    "    print(\"Random list is symmetric and has \",x ,\" elements\")\n",
    "    \n",
    "else:\n",
    "    print(\"Random list is asymmetric.\")"
   ]
  },
  {
   "cell_type": "markdown",
   "id": "5b07964c-f7ad-49ac-a646-c07734667b74",
   "metadata": {},
   "source": [
    "###Execise 5 - List game2"
   ]
  },
  {
   "cell_type": "code",
   "execution_count": 28,
   "id": "61c27fcd-5461-41fe-b8a5-f4461b91b0b2",
   "metadata": {},
   "outputs": [
    {
     "name": "stdout",
     "output_type": "stream",
     "text": [
      "Yes, list contains duplicates\n",
      "The list has  2 duplicate elements.\n",
      "The index of duplicate elements is : [3, 7]\n"
     ]
    }
   ],
   "source": [
    "myList = [12, 16, 8, 12, 6, 10, 20, 16]\n",
    "\n",
    "def checkIfDuplicates(myList):\n",
    "    if len(myList) == len(set(myList)):\n",
    "        return False\n",
    "    else:\n",
    "        return True\n",
    "    \n",
    "if result:\n",
    "    print(\"Yes, list contains duplicates\")\n",
    "    mySet = set()\n",
    "    result = []\n",
    "    for idx, val in enumerate(myList):\n",
    "        if val not in mySet:\n",
    "            mySet.add(val)         \n",
    "        else:\n",
    "            result.append(idx)\n",
    "    x = len(result)\n",
    "    print(\"The list has \", x, \"duplicate elements.\")\n",
    "    print(\"The index of duplicate elements is : \" + str(result))\n",
    "else:\n",
    "    print(\"No duplicates found in list\")"
   ]
  }
 ],
 "metadata": {
  "kernelspec": {
   "display_name": "Python 3",
   "language": "python",
   "name": "python3"
  },
  "language_info": {
   "codemirror_mode": {
    "name": "ipython",
    "version": 3
   },
   "file_extension": ".py",
   "mimetype": "text/x-python",
   "name": "python",
   "nbconvert_exporter": "python",
   "pygments_lexer": "ipython3",
   "version": "3.8.8"
  }
 },
 "nbformat": 4,
 "nbformat_minor": 5
}
